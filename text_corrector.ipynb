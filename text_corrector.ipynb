{
  "nbformat": 4,
  "nbformat_minor": 0,
  "metadata": {
    "colab": {
      "private_outputs": true,
      "provenance": [],
      "authorship_tag": "ABX9TyPUWSjxAPQ3M2b0/p8BlCjd",
      "include_colab_link": true
    },
    "kernelspec": {
      "name": "python3",
      "display_name": "Python 3"
    },
    "language_info": {
      "name": "python"
    }
  },
  "cells": [
    {
      "cell_type": "markdown",
      "metadata": {
        "id": "view-in-github",
        "colab_type": "text"
      },
      "source": [
        "<a href=\"https://colab.research.google.com/github/adrianyang2012/text_corrector/blob/main/text_corrector.ipynb\" target=\"_parent\"><img src=\"https://colab.research.google.com/assets/colab-badge.svg\" alt=\"Open In Colab\"/></a>"
      ]
    },
    {
      "cell_type": "code",
      "execution_count": null,
      "metadata": {
        "id": "7Dk9MHBhN1j9"
      },
      "outputs": [],
      "source": [
        "import requests\n",
        "r = requests.get('https://raw.githubusercontent.com/dwyl/english-words/master/words_alpha.txt', auth=('user', 'pass'))\n",
        "wordlist = r.text.split('\\r\\n')"
      ]
    },
    {
      "cell_type": "code",
      "source": [
        "len(wordlist)/(170000+47000)"
      ],
      "metadata": {
        "id": "xwkJjX9BPsI4"
      },
      "execution_count": null,
      "outputs": []
    },
    {
      "cell_type": "code",
      "source": [
        "wordlist = [word.lower() for word in wordlist]\n"
      ],
      "metadata": {
        "id": "A0r9F7dDOaia"
      },
      "execution_count": null,
      "outputs": []
    },
    {
      "cell_type": "code",
      "source": [
        "import requests\n",
        "search = input('')\n",
        "search = search.replace('.','').replace(';','').replace('(','').replace(')','').replace('!','').replace('?','').replace(',','').replace('\\'','').lower()"
      ],
      "metadata": {
        "id": "F323rHppOgGI"
      },
      "execution_count": null,
      "outputs": []
    },
    {
      "cell_type": "code",
      "source": [
        "search = search.split(' ')\n"
      ],
      "metadata": {
        "id": "yLmoYie_SunQ"
      },
      "execution_count": null,
      "outputs": []
    },
    {
      "cell_type": "code",
      "source": [
        "def word_distance(x,y):\n",
        "  points = 0\n",
        "  if len(x) > len(y):\n",
        "    points += 5-(len(x)+len(y))/2\n",
        "  else:\n",
        "    points += 5-(len(y)+len(x))/2\n",
        "  for i in range(0,len(x)):\n",
        "    if x[i] in y:\n",
        "      points +=1\n",
        "      try:\n",
        "        if x[i] == y[i]:\n",
        "          points +=2\n",
        "      except:\n",
        "        pass\n",
        "\n",
        "  return points\n"
      ],
      "metadata": {
        "id": "1gUpYDiYZjSZ"
      },
      "execution_count": null,
      "outputs": []
    },
    {
      "cell_type": "code",
      "source": [
        "wrong_words = []\n",
        "def find_nearest_word(wrong_word):\n",
        "  global wrong_words\n",
        "  wrong_words.append(wrong_word)\n",
        "  distances = []\n",
        "  for j in range(0,len(wordlist)):\n",
        "    distances.append(word_distance(wrong_word,wordlist[j]))\n",
        "  return wordlist[distances.index(max(distances))],max(distances)\n",
        "def find_missing_space(wrong_word):\n",
        "  inserting = ''\n",
        "  for j in range(0,len(wrong_word)):\n",
        "    wrong_word_li = list(wrong_word)\n",
        "    wrong_word_li.insert(j,' ')\n",
        "\n",
        "    if ''.join(wrong_word_li)[0] in wordlist and ''.join(wrong_word_li)[1] in wordlist:\n",
        "      inserting = ''.join(wrong_word_li)\n",
        "      break\n",
        "  if inserting:\n",
        "    return inserting\n",
        "  else:\n",
        "    return False\n",
        "for i in range(0,len(search)):\n",
        "  if not (search[i] in wordlist):\n",
        "    insert_try = find_missing_space(search[i])\n",
        "    word_li = find_nearest_word(search[i])\n",
        "    insert_try_2 = word_li[0]\n",
        "    min_word_distance = word_li[1]\n",
        "    if min_word_distance > 18 or not insert_try:\n",
        "      insert_try = insert_try_2\n",
        "\n",
        "\n",
        "    search[i] =insert_try\n"
      ],
      "metadata": {
        "id": "eFAvpiwAZhMC"
      },
      "execution_count": null,
      "outputs": []
    },
    {
      "cell_type": "code",
      "source": [
        "if wrong_words:\n",
        "  print('correction: '+' '.join(search))\n",
        "  print('these words were spelled wrong: '+ ','.join(wrong_words))\n",
        "else:\n",
        "  print('all the spelling is correct!')"
      ],
      "metadata": {
        "id": "ueIumogCufaD"
      },
      "execution_count": null,
      "outputs": []
    },
    {
      "cell_type": "code",
      "source": [
        "'overmorrow' in wordlist"
      ],
      "metadata": {
        "id": "c7oMSbwvNB6x"
      },
      "execution_count": null,
      "outputs": []
    }
  ]
}