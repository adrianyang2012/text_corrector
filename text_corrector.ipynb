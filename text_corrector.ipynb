{
  "nbformat": 4,
  "nbformat_minor": 0,
  "metadata": {
    "colab": {
      "private_outputs": true,
      "provenance": [],
      "authorship_tag": "ABX9TyPptkkCwKVWazcLCTRCpKVV",
      "include_colab_link": true
    },
    "kernelspec": {
      "name": "python3",
      "display_name": "Python 3"
    },
    "language_info": {
      "name": "python"
    }
  },
  "cells": [
    {
      "cell_type": "markdown",
      "metadata": {
        "id": "view-in-github",
        "colab_type": "text"
      },
      "source": [
        "<a href=\"https://colab.research.google.com/github/adrianyang2012/text_corrector/blob/main/text_corrector.ipynb\" target=\"_parent\"><img src=\"https://colab.research.google.com/assets/colab-badge.svg\" alt=\"Open In Colab\"/></a>"
      ]
    },
    {
      "cell_type": "code",
      "execution_count": null,
      "metadata": {
        "id": "7Dk9MHBhN1j9"
      },
      "outputs": [],
      "source": [
        "import nltk\n",
        "nltk.download('brown')\n",
        "from nltk.corpus import brown\n",
        "wordlist = list(set(brown.words()))"
      ]
    },
    {
      "cell_type": "code",
      "source": [
        "wordlist = [word.lower() for word in wordlist]\n"
      ],
      "metadata": {
        "id": "A0r9F7dDOaia"
      },
      "execution_count": null,
      "outputs": []
    },
    {
      "cell_type": "code",
      "source": [
        "import requests\n",
        "search = input('')\n",
        "search = search.replace('.','').replace(';','').replace('(','').replace(')','').replace('!','').replace('?','').lower()"
      ],
      "metadata": {
        "id": "F323rHppOgGI"
      },
      "execution_count": null,
      "outputs": []
    },
    {
      "cell_type": "code",
      "source": [
        "search = search.split(' ')\n"
      ],
      "metadata": {
        "id": "yLmoYie_SunQ"
      },
      "execution_count": null,
      "outputs": []
    },
    {
      "cell_type": "code",
      "source": [
        "def word_distance(x,y):\n",
        "  points = 0\n",
        "  if len(x) > len(y):\n",
        "    points += 5-(len(x)+len(y))/2\n",
        "  else:\n",
        "    points += 5-(len(y)+len(x))/2\n",
        "  for i in range(0,len(x)):\n",
        "    if x[i] in y:\n",
        "      points +=1\n",
        "      try:\n",
        "        if x[i] == y[i]:\n",
        "          points +=2\n",
        "      except:\n",
        "        pass\n",
        "\n",
        "  return points\n"
      ],
      "metadata": {
        "id": "1gUpYDiYZjSZ"
      },
      "execution_count": null,
      "outputs": []
    },
    {
      "cell_type": "code",
      "source": [
        "wrong_words = []\n",
        "for i in range(0,len(search)):\n",
        "  if not (search[i] in wordlist):\n",
        "    wrong_words.append(search[i])\n",
        "    distances = []\n",
        "    for j in range(0,len(wordlist)):\n",
        "      distances.append(word_distance(search[i],wordlist[j]))\n",
        "    search[i] = wordlist[distances.index(max(distances))]\n"
      ],
      "metadata": {
        "id": "eFAvpiwAZhMC"
      },
      "execution_count": null,
      "outputs": []
    },
    {
      "cell_type": "code",
      "source": [
        "print('correction: '+' '.join(search))\n",
        "print('these words were spelled wrong: '+ ','.join(wrong_words))"
      ],
      "metadata": {
        "id": "ueIumogCufaD"
      },
      "execution_count": null,
      "outputs": []
    },
    {
      "cell_type": "code",
      "source": [
        "word_distance('ken','tastee')"
      ],
      "metadata": {
        "id": "EiYr6PDhjSwc"
      },
      "execution_count": null,
      "outputs": []
    }
  ]
}